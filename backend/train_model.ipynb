{
 "cells": [
  {
   "cell_type": "code",
   "execution_count": null,
   "metadata": {},
   "outputs": [],
   "source": [
    "import pandas as pd\n",
    "import joblib\n",
    "from sklearn.model_selection import train_test_split\n",
    "from sklearn.preprocessing import LabelEncoder\n",
    "from xgboost import XGBClassifier\n",
    "from sklearn.metrics import classification_report, confusion_matrix, accuracy_score\n",
    "\n",
    "# Load data\n",
    "df = pd.read_csv(\"credit_card_fraud_dataset.csv\")  # or your actual file\n",
    "\n",
    "# Convert date and extract features\n",
    "df[\"TransactionDate\"] = pd.to_datetime(df[\"TransactionDate\"])\n",
    "df[\"Hour\"] = df[\"TransactionDate\"].dt.hour\n",
    "df[\"Day\"] = df[\"TransactionDate\"].dt.day\n",
    "df[\"Month\"] = df[\"TransactionDate\"].dt.month\n",
    "df[\"Weekday\"] = df[\"TransactionDate\"].dt.weekday\n",
    "df.drop(\"TransactionDate\", axis=1, inplace=True)\n",
    "\n",
    "# Label Encoding for categorical features\n",
    "label_encoders = {}\n",
    "for col in [\"TransactionType\", \"Location\"]:\n",
    "    le = LabelEncoder()\n",
    "    df[col] = le.fit_transform(df[col])\n",
    "    label_encoders[col] = le\n",
    "\n",
    "# Split features and label (IMPORTANT: Exclude IsFraud from features)\n",
    "X = df.drop(\"IsFraud\", axis=1)\n",
    "y = df[\"IsFraud\"]\n",
    "\n",
    "# Train/test split\n",
    "X_train, X_test, y_train, y_test = train_test_split(X, y, test_size=0.2, stratify=y, random_state=42)\n",
    "\n",
    "# Train model\n",
    "model = XGBClassifier(use_label_encoder=False, eval_metric=\"logloss\")\n",
    "model.fit(X_train, y_train)\n",
    "\n",
    "# Evaluate\n",
    "y_pred = model.predict(X_test)\n",
    "print(\"✅ Accuracy:\", accuracy_score(y_test, y_pred))\n",
    "print(\"\\n📊 Classification Report:\\n\", classification_report(y_test, y_pred))\n",
    "print(\"\\n📉 Confusion Matrix:\\n\", confusion_matrix(y_test, y_pred))\n",
    "\n",
    "# Save model and encoders\n",
    "joblib.dump(model, \"fraud_model.pkl\")\n",
    "joblib.dump(label_encoders, \"label_encoders.pkl\")\n"
   ]
  }
 ],
 "metadata": {
  "kernelspec": {
   "display_name": "Python 3",
   "language": "python",
   "name": "python3"
  },
  "language_info": {
   "codemirror_mode": {
    "name": "ipython",
    "version": 3
   },
   "file_extension": ".py",
   "mimetype": "text/x-python",
   "name": "python",
   "nbconvert_exporter": "python",
   "pygments_lexer": "ipython3",
   "version": "3.11.0"
  }
 },
 "nbformat": 4,
 "nbformat_minor": 2
}
